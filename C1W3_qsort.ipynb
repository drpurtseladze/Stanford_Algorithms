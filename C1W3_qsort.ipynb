{
 "cells": [
  {
   "cell_type": "code",
   "execution_count": 1,
   "metadata": {},
   "outputs": [],
   "source": [
    "def quick_sort(arr, low, high, element = 'first'):\n",
    "    if len(arr) <= 1:\n",
    "        return 0\n",
    "    \n",
    "    num = 0\n",
    "    if low < high:\n",
    "  \n",
    "        # pi is partitioning index, arr[p] is now\n",
    "        # at right place\n",
    "        pivot, num_comparisons = partition(arr, low, high, element)\n",
    "        num = num+num_comparisons\n",
    "        # Separately sort elements before\n",
    "        # partition and after partition\n",
    "        num = num + quick_sort(arr, low, pivot-1, element)\n",
    "        num = num + quick_sort(arr, pivot, high, element)\n",
    "        \n",
    "    return num"
   ]
  },
  {
   "cell_type": "code",
   "execution_count": 2,
   "metadata": {},
   "outputs": [],
   "source": [
    "# swap median with first element of array\n",
    "\n",
    "def median(array,l, r):\n",
    "    a = array[l]\n",
    "    b = array[(l+r-1)//2]\n",
    "    c = array[r-1]\n",
    "    if (a<b<c) or (c<b<a):\n",
    "        array[l], array[(l+r-1)//2] = array[(l+r-1)//2], array[l]\n",
    "    elif (a<c<b) or (b<c<a):\n",
    "        array[l], array[r-1] = array[r-1] , array[l]\n",
    "    "
   ]
  },
  {
   "cell_type": "code",
   "execution_count": 3,
   "metadata": {},
   "outputs": [],
   "source": [
    "def partition(a, l, r, element):\n",
    "    if element == 'last':\n",
    "        a[r-1], a[l] = a[l], a[r-1]\n",
    "    if element == 'median':\n",
    "        median(a,l, r)\n",
    "        \n",
    "        \n",
    "    p = a[l]\n",
    "    i = l+1\n",
    "    for j in range(l+1, r):\n",
    "        if a[j] < p:\n",
    "            a[j], a[i] = a[i], a[j]\n",
    "            i = i+1\n",
    "    \n",
    "    a[l], a[i-1] = a[i-1], a[l]\n",
    "    return i, r-l-1"
   ]
  },
  {
   "cell_type": "code",
   "execution_count": 4,
   "metadata": {},
   "outputs": [],
   "source": [
    "import numpy as np"
   ]
  },
  {
   "cell_type": "code",
   "execution_count": 5,
   "metadata": {},
   "outputs": [],
   "source": [
    "# check if sorting works properly\n",
    "for i in range(50):\n",
    "    a = list(np.random.rand(100))\n",
    "    b = sorted(a.copy())\n",
    "    quick_sort(a, 0, len(a), element = 'first')\n",
    "    assert(a==b)\n",
    "\n",
    "for i in range(50):\n",
    "    a = list(np.random.rand(100))\n",
    "    b = sorted(a.copy())\n",
    "    quick_sort(a, 0, len(a), element = 'last')\n",
    "    assert(a==b)\n",
    "    \n",
    "for i in range(50):\n",
    "    a = list(np.random.rand(100))\n",
    "    b = sorted(a.copy())\n",
    "    quick_sort(a, 0, len(a), element = 'median')\n",
    "    assert(a==b)"
   ]
  },
  {
   "cell_type": "code",
   "execution_count": 6,
   "metadata": {},
   "outputs": [],
   "source": [
    "with open('qsort_array.txt', 'r') as f:\n",
    "    s = f.readlines()"
   ]
  },
  {
   "cell_type": "code",
   "execution_count": 7,
   "metadata": {},
   "outputs": [
    {
     "name": "stdout",
     "output_type": "stream",
     "text": [
      "first 162085\n",
      "last 164123\n",
      "median 138382\n"
     ]
    }
   ],
   "source": [
    "for element in ['first','last','median']:\n",
    "    a = [int(i.replace('\\n','')) for i in s]\n",
    "    b = sorted(a.copy())\n",
    "    n_comparisons = quick_sort(a, 0, len(a), element = element)\n",
    "    assert(a==b)\n",
    "    print(element, n_comparisons)"
   ]
  }
 ],
 "metadata": {
  "kernelspec": {
   "display_name": "Python 3",
   "language": "python",
   "name": "python3"
  },
  "language_info": {
   "codemirror_mode": {
    "name": "ipython",
    "version": 3
   },
   "file_extension": ".py",
   "mimetype": "text/x-python",
   "name": "python",
   "nbconvert_exporter": "python",
   "pygments_lexer": "ipython3",
   "version": "3.7.6"
  }
 },
 "nbformat": 4,
 "nbformat_minor": 4
}
