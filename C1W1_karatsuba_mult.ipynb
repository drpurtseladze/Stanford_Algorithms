{
 "cells": [
  {
   "cell_type": "code",
   "execution_count": 21,
   "metadata": {},
   "outputs": [],
   "source": [
    "# roundup for positive numbers\n",
    "def roundup(r):\n",
    "    if r==int(r):\n",
    "        return int(r)\n",
    "    else:\n",
    "        return int(r)+1"
   ]
  },
  {
   "cell_type": "code",
   "execution_count": 30,
   "metadata": {},
   "outputs": [],
   "source": [
    "def mult(n1, n2):\n",
    "    \n",
    "    # if n1 or n2 are less than 10 end recursion and return the product\n",
    "    # ideally we should implement a lookup from multiplication table\n",
    "    if n1<=10 or n2<=10:\n",
    "        return n1*n2\n",
    "    \n",
    "    m = max(roundup(len(str(n1))/2), roundup(len(str(n2))/2)) # choose m\n",
    "    \n",
    "    # slice into first m digits and the rest;\n",
    "    n1s = str(n1)\n",
    "    n2s = str(n2)\n",
    "    a = n1s[0:int(len(n1s))-m]\n",
    "    b = n1s[-m:]\n",
    "    c = n2s[0:int(len(n2s))-m]\n",
    "    d = n2s[-m:]\n",
    "    \n",
    "\n",
    "    \n",
    "    if a=='':\n",
    "        a=0\n",
    "    if b=='':\n",
    "        b=0\n",
    "    if c=='':\n",
    "        c=0\n",
    "    if d=='':\n",
    "        d=0\n",
    "    \n",
    "    # convert to int\n",
    "    a = int(a)\n",
    "    b = int(b)\n",
    "    c = int(c)\n",
    "    d = int(d)\n",
    " \n",
    "\n",
    "    # 4 karatsuba steps\n",
    "    s1 = mult(a, c)\n",
    "    s2 = mult(b, d)\n",
    "    s3 = mult((a+b),(c+d))\n",
    "    s4 = s3-s2-s1\n",
    "    \n",
    "    \n",
    "    return s1*10**(2*m) + s2 + s4*10**m\n",
    "    \n",
    "    "
   ]
  },
  {
   "cell_type": "code",
   "execution_count": 31,
   "metadata": {},
   "outputs": [],
   "source": [
    "n1 = 3141592653589793238462643383279502884197169399375105820974944592\n",
    "\n",
    "n2 = 2718281828459045235360287471352662497757247093699959574966967627"
   ]
  },
  {
   "cell_type": "code",
   "execution_count": 33,
   "metadata": {},
   "outputs": [
    {
     "name": "stdout",
     "output_type": "stream",
     "text": [
      "Correct? True\n",
      "8539734222673567065463550869546574495034888535765114961879601127067743044893204848617875072216249073013374895871952806582723184\n"
     ]
    }
   ],
   "source": [
    "print('Correct?', mult(n1, n2) - n1*n2 == 0)\n",
    "\n",
    "print(mult(n1, n2))"
   ]
  },
  {
   "cell_type": "code",
   "execution_count": null,
   "metadata": {},
   "outputs": [],
   "source": []
  }
 ],
 "metadata": {
  "kernelspec": {
   "display_name": "Python 3",
   "language": "python",
   "name": "python3"
  },
  "language_info": {
   "codemirror_mode": {
    "name": "ipython",
    "version": 3
   },
   "file_extension": ".py",
   "mimetype": "text/x-python",
   "name": "python",
   "nbconvert_exporter": "python",
   "pygments_lexer": "ipython3",
   "version": "3.7.6"
  }
 },
 "nbformat": 4,
 "nbformat_minor": 5
}
