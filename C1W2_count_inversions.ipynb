{
 "cells": [
  {
   "cell_type": "code",
   "execution_count": 1,
   "metadata": {},
   "outputs": [],
   "source": [
    "# brute force algo for testing\n",
    "def count_inversions_bf(a):\n",
    "    c = 0\n",
    "    for i in range(len(a)):\n",
    "        for j in range(len(a)):\n",
    "            if i<j and a[i]>a[j]:\n",
    "                c=c+1\n",
    "    return c"
   ]
  },
  {
   "cell_type": "code",
   "execution_count": 2,
   "metadata": {},
   "outputs": [],
   "source": [
    "def sort_count_inversions(a):\n",
    "    # returns sorted array, number of inversions\n",
    "    l = len(a)\n",
    "    if l<2:\n",
    "        return (a, 0)\n",
    "        \n",
    "    left = a[0:int(l/2)]\n",
    "    right = a[int(l/2):]\n",
    "    \n",
    "    # recursively sorted smaller arrays and count inversions\n",
    "    sorted_left, left_inv = sort_count_inversions(left)\n",
    "    sorted_right, right_inv = sort_count_inversions(right)\n",
    "    \n",
    "    \n",
    "    #print('sorted left, right:', sorted_left, sorted_right)\n",
    "    \n",
    "    #merge step\n",
    "    \n",
    "    M = [] # initialize Merged array\n",
    "    split_inv = 0 # initialize number of split inversions\n",
    "    \n",
    "    i = 0\n",
    "    j = 0\n",
    "    \n",
    "    for k in range(l):\n",
    "        \n",
    "        # if left array is exhausted, we take elements from right array\n",
    "        if i>=len(sorted_left) and j<len(sorted_right):\n",
    "            M.append(sorted_right[j])\n",
    "            j = j+1\n",
    "        # if left array is exhausted, we take elements from left array\n",
    "        if j>=len(sorted_right) and i<len(sorted_left):\n",
    "            M.append(sorted_left[i])\n",
    "            i = i+1\n",
    "        \n",
    "        # none of the arrays is exhausted\n",
    "        if i < len(sorted_left) and j< len(sorted_right):\n",
    "            if sorted_left[i]<sorted_right[j]:\n",
    "                #print('taking from left')\n",
    "                M.append(sorted_left[i])\n",
    "                i = i+1\n",
    "            else:\n",
    "                #print('taking from right')\n",
    "                M.append(sorted_right[j])\n",
    "                j = j+1\n",
    "                split_inv = split_inv + (len(sorted_left)-i)\n",
    "\n",
    "    #print('merged:', M)\n",
    "    #print('split_inv', split_inv)\n",
    "    return M, split_inv + left_inv + right_inv\n"
   ]
  },
  {
   "cell_type": "code",
   "execution_count": 3,
   "metadata": {},
   "outputs": [],
   "source": [
    "# test on smaller random arrays \n",
    "# compare merge-sort version to brute force\n",
    "import numpy as np\n",
    "\n",
    "ans = []\n",
    "for i in range(10):\n",
    "    test_array = np.random.rand(50)\n",
    "    ans.append(count_inversions_bf(test_array) -  sort_count_inversions(test_array)[1])"
   ]
  },
  {
   "cell_type": "code",
   "execution_count": 4,
   "metadata": {},
   "outputs": [
    {
     "data": {
      "text/plain": [
       "[0, 0, 0, 0, 0, 0, 0, 0, 0, 0]"
      ]
     },
     "execution_count": 4,
     "metadata": {},
     "output_type": "execute_result"
    }
   ],
   "source": [
    "ans"
   ]
  },
  {
   "cell_type": "markdown",
   "metadata": {},
   "source": [
    "all zeros! looks good!"
   ]
  },
  {
   "cell_type": "code",
   "execution_count": 5,
   "metadata": {},
   "outputs": [],
   "source": [
    "file_path = 'IntegerArray.txt'\n",
    "\n",
    "with open(file_path, 'r') as f:\n",
    "    s = f.read()"
   ]
  },
  {
   "cell_type": "code",
   "execution_count": 6,
   "metadata": {},
   "outputs": [],
   "source": [
    "array = [int(i) for i in s.split('\\n')[0:-1]]"
   ]
  },
  {
   "cell_type": "code",
   "execution_count": 7,
   "metadata": {},
   "outputs": [],
   "source": [
    "sorted_array, number_of_inversions = sort_count_inversions(array)"
   ]
  },
  {
   "cell_type": "code",
   "execution_count": 8,
   "metadata": {},
   "outputs": [
    {
     "name": "stdout",
     "output_type": "stream",
     "text": [
      "2407905288\n"
     ]
    }
   ],
   "source": [
    "print(number_of_inversions)"
   ]
  }
 ],
 "metadata": {
  "kernelspec": {
   "display_name": "Python 3",
   "language": "python",
   "name": "python3"
  },
  "language_info": {
   "codemirror_mode": {
    "name": "ipython",
    "version": 3
   },
   "file_extension": ".py",
   "mimetype": "text/x-python",
   "name": "python",
   "nbconvert_exporter": "python",
   "pygments_lexer": "ipython3",
   "version": "3.7.6"
  }
 },
 "nbformat": 4,
 "nbformat_minor": 4
}
