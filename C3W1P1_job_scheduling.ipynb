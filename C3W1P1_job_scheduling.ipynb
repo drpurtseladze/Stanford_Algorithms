{
 "cells": [
  {
   "cell_type": "code",
   "execution_count": 29,
   "metadata": {},
   "outputs": [],
   "source": [
    "import pandas as pd\n",
    "\n",
    "with open('jobs.txt', 'r') as f:\n",
    "    s = f.readlines()"
   ]
  },
  {
   "cell_type": "code",
   "execution_count": 30,
   "metadata": {},
   "outputs": [],
   "source": [
    "J = pd.DataFrame([i.replace('\\n','').split(' ') for i in s[1::] ], columns = ['w','l'])\n",
    "J = J.astype(int)"
   ]
  },
  {
   "cell_type": "code",
   "execution_count": 31,
   "metadata": {},
   "outputs": [],
   "source": [
    "J['ratio'] = J['w']/J['l']\n",
    "J['diff'] = J['w']-J['l']"
   ]
  },
  {
   "cell_type": "code",
   "execution_count": 32,
   "metadata": {},
   "outputs": [
    {
     "name": "stdout",
     "output_type": "stream",
     "text": [
      "Scheduled by diff : 69119377652\n",
      "Scheduled by ratio: 67311454237\n"
     ]
    }
   ],
   "source": [
    "J = J.sort_values(by = ['diff','w'], ascending = False)\n",
    "J['cumulative'] = J['l'].cumsum().fillna(0)\n",
    "print('Scheduled by diff :', sum(J['cumulative']*J['w']))\n",
    "\n",
    "\n",
    "J = J.sort_values(by = ['ratio','w'], ascending = False)\n",
    "J['cumulative'] = J['l'].cumsum().fillna(0)\n",
    "print('Scheduled by ratio:', sum(J['cumulative']*J['w']))"
   ]
  },
  {
   "cell_type": "code",
   "execution_count": null,
   "metadata": {},
   "outputs": [],
   "source": []
  }
 ],
 "metadata": {
  "kernelspec": {
   "display_name": "Python 3",
   "language": "python",
   "name": "python3"
  },
  "language_info": {
   "codemirror_mode": {
    "name": "ipython",
    "version": 3
   },
   "file_extension": ".py",
   "mimetype": "text/x-python",
   "name": "python",
   "nbconvert_exporter": "python",
   "pygments_lexer": "ipython3",
   "version": "3.7.1"
  }
 },
 "nbformat": 4,
 "nbformat_minor": 2
}
