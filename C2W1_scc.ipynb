{
 "cells": [
  {
   "cell_type": "code",
   "execution_count": 12,
   "metadata": {},
   "outputs": [
    {
     "data": {
      "text/plain": [
       "67108864"
      ]
     },
     "execution_count": 12,
     "metadata": {},
     "output_type": "execute_result"
    }
   ],
   "source": [
    "import pandas as pd\n",
    "import sys, threading\n",
    "\n",
    "import sys\n",
    "\n",
    "import sys, threading\n",
    "sys.setrecursionlimit(800000)\n",
    "threading.stack_size(67108864)"
   ]
  },
  {
   "cell_type": "code",
   "execution_count": 19,
   "metadata": {},
   "outputs": [],
   "source": [
    "def DFS(node):\n",
    "    global explored, E_dict, leaders\n",
    "    explored[node] = True # mark as explored\n",
    "    leaders[node] = leader\n",
    "    #print(node)\n",
    "    for head in E_dict[node]:\n",
    "        if explored[head] == False:\n",
    "            #print(head)\n",
    "            DFS(head)\n",
    "    return 0\n",
    "\n",
    "\n",
    "def DFS_reversed(node):\n",
    "    global E_dict_reversed, explored, s, leaders,t, finishing_times, total_explored\n",
    "    #total_explored = total_explored + 1\n",
    "    #if total_explored % 100==0: \n",
    "    #    print('Total:', total_explored)\n",
    "    explored[node] = True # mark as explored\n",
    "    leaders[node] = s\n",
    "    \n",
    "    for head in E_dict_reversed[node]:\n",
    "        if explored[head] == False:\n",
    "            #print('Connected vertice:',head)\n",
    "            DFS_reversed(head)\n",
    "    t = t+1\n",
    "    finishing_times[node] = t\n",
    "    return 0"
   ]
  },
  {
   "cell_type": "code",
   "execution_count": 22,
   "metadata": {},
   "outputs": [],
   "source": [
    "def main():\n",
    "    global explored, leaders, E_dict, E_dict_reversed, finishing_times, total_explored, s, t, leader\n",
    "    filename = 'scc_graph.txt' #'scc_graph.txt' 'small_test1.txt'\n",
    "    print('Reading file')\n",
    "    E = pd.read_csv(filename, header=None, delimiter=r\"\\s+\")\n",
    "    print('Done')\n",
    "    E.columns = ['tail','head']\n",
    "    n_verticies = len(list(set(list(E['tail']) + list(E['head']))))\n",
    "    print('Number of verticies:', n_verticies)\n",
    "\n",
    "\n",
    "\n",
    "    explored = dict()\n",
    "    leaders = dict()\n",
    "    for i in range(n_verticies):\n",
    "        explored[i+1] = False\n",
    "        leaders[i+1] = None\n",
    "    print('Generating graph dict')    \n",
    "    E_dict = dict(E.groupby('head')['tail'].apply(list))\n",
    "    print('Generating reverse graph dict')    \n",
    "    E_dict_reversed = dict(E.groupby('tail')['head'].apply(list))\n",
    "\n",
    "    for i in range(n_verticies):\n",
    "        if i+1 not in E_dict_reversed.keys():\n",
    "            E_dict_reversed[i+1] = []\n",
    "        if i+1 not in E_dict.keys():\n",
    "            E_dict[i+1] = []\n",
    "\n",
    "    import time\n",
    "\n",
    "    total_explored = 0\n",
    "\n",
    "\n",
    "    s = None\n",
    "    t = 0\n",
    "    leaders = {}\n",
    "    finishing_times={}\n",
    "\n",
    "    for i in range(n_verticies, 0, -1):\n",
    "        #print('Current node:', i)\n",
    "        if explored[i] == False:\n",
    "            s = i\n",
    "            DFS_reversed(i)\n",
    "\n",
    "\n",
    "    explored = dict()\n",
    "    for i in range(n_verticies):\n",
    "        explored[i+1] = False\n",
    "\n",
    "\n",
    "\n",
    "    for node in pd.DataFrame(list(zip(finishing_times.keys(), finishing_times.values())))[0][::-1]:\n",
    "        leader = node\n",
    "        if explored[node] == False:\n",
    "            DFS(node)\n",
    "\n",
    "    top5_scc = list(pd.DataFrame(leaders.values())[0].value_counts())\n",
    "    if len(top5_scc)<5:\n",
    "        top5_scc = top5_scc+[0]*(5-len(top5_scc))\n",
    "\n",
    "\n",
    "    print(top5_scc[0:5])\n",
    "    \n",
    "    return 0"
   ]
  },
  {
   "cell_type": "code",
   "execution_count": 23,
   "metadata": {},
   "outputs": [
    {
     "name": "stdout",
     "output_type": "stream",
     "text": [
      "Reading file\n",
      "Done\n",
      "Number of verticies: 875714\n",
      "Generating graph dict\n",
      "Generating reverse graph dict\n",
      "[434821, 968, 459, 313, 211]\n"
     ]
    }
   ],
   "source": [
    "thread = threading.Thread(target=main)\n",
    "thread.start()"
   ]
  },
  {
   "cell_type": "code",
   "execution_count": null,
   "metadata": {},
   "outputs": [],
   "source": []
  }
 ],
 "metadata": {
  "kernelspec": {
   "display_name": "Python 3",
   "language": "python",
   "name": "python3"
  },
  "language_info": {
   "codemirror_mode": {
    "name": "ipython",
    "version": 3
   },
   "file_extension": ".py",
   "mimetype": "text/x-python",
   "name": "python",
   "nbconvert_exporter": "python",
   "pygments_lexer": "ipython3",
   "version": "3.8.3"
  }
 },
 "nbformat": 4,
 "nbformat_minor": 2
}
