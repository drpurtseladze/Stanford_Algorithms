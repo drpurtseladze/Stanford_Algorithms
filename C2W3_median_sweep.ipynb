{
 "cells": [
  {
   "cell_type": "code",
   "execution_count": 1,
   "metadata": {},
   "outputs": [],
   "source": [
    "with open('median_array.txt', 'r') as f:\n",
    "    a = f.readlines()"
   ]
  },
  {
   "cell_type": "code",
   "execution_count": 2,
   "metadata": {},
   "outputs": [],
   "source": [
    "a = [int(i.replace('\\n','')) for i in a]"
   ]
  },
  {
   "cell_type": "code",
   "execution_count": 3,
   "metadata": {},
   "outputs": [],
   "source": [
    "# Binary search implementation"
   ]
  },
  {
   "cell_type": "code",
   "execution_count": 4,
   "metadata": {},
   "outputs": [],
   "source": [
    "def binary_search_insert(lst_, e):\n",
    "    lst = lst_.copy()\n",
    "    pos = 0\n",
    "    while len(lst)>1:\n",
    "        l = len(lst)\n",
    "        median = median_sorted(lst)\n",
    "\n",
    "        if e>median:\n",
    "            pos = pos + int(l/2)\n",
    "            lst = lst[int(l/2)::]\n",
    "            #print('>', lst)\n",
    "        else:\n",
    "            lst = lst[0:int(l/2)]\n",
    "            #print('<', lst)\n",
    "    if len(lst) == 1:\n",
    "        if e >= lst[0]:\n",
    "            pos = pos+1\n",
    "    return lst_[0:pos] + [e] + lst_[pos::]"
   ]
  },
  {
   "cell_type": "code",
   "execution_count": 5,
   "metadata": {},
   "outputs": [],
   "source": [
    "def median_sorted(lst):\n",
    "    l = len(lst)\n",
    "    if l == 0:\n",
    "        return None\n",
    "    if l % 2 ==1:\n",
    "        median = lst[int(l/2)]\n",
    "    else:\n",
    "        median = lst[int(l/2)-1]\n",
    "    return median"
   ]
  },
  {
   "cell_type": "code",
   "execution_count": 6,
   "metadata": {},
   "outputs": [],
   "source": [
    "s = a[0:1]\n",
    "i=0"
   ]
  },
  {
   "cell_type": "code",
   "execution_count": 7,
   "metadata": {},
   "outputs": [],
   "source": [
    "medians = a[0:1]\n",
    "while i<len(a)-1:\n",
    "    i = i + 1\n",
    "    s = binary_search_insert(s, a[i])\n",
    "    medians.append(median_sorted(s)) \n",
    "    #assert(s == sorted(a[0:i+1]))"
   ]
  },
  {
   "cell_type": "code",
   "execution_count": 9,
   "metadata": {},
   "outputs": [
    {
     "name": "stdout",
     "output_type": "stream",
     "text": [
      "1213\n"
     ]
    }
   ],
   "source": [
    "tmp = [i % 10000 for i in medians]\n",
    "binary_search_ans = sum(tmp) % 10000\n",
    "print(binary_search_ans)"
   ]
  },
  {
   "cell_type": "code",
   "execution_count": null,
   "metadata": {},
   "outputs": [],
   "source": []
  }
 ],
 "metadata": {
  "kernelspec": {
   "display_name": "Python 3",
   "language": "python",
   "name": "python3"
  },
  "language_info": {
   "codemirror_mode": {
    "name": "ipython",
    "version": 3
   },
   "file_extension": ".py",
   "mimetype": "text/x-python",
   "name": "python",
   "nbconvert_exporter": "python",
   "pygments_lexer": "ipython3",
   "version": "3.8.3"
  }
 },
 "nbformat": 4,
 "nbformat_minor": 4
}
