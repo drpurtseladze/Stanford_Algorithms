{
 "cells": [
  {
   "cell_type": "code",
   "execution_count": 13,
   "metadata": {},
   "outputs": [],
   "source": [
    "# No Optimization\n",
    "\n",
    "import numpy as np\n",
    "\n",
    "with open ('graph.txt', 'r') as f:\n",
    "    data = f.readlines()"
   ]
  },
  {
   "cell_type": "code",
   "execution_count": 2,
   "metadata": {},
   "outputs": [],
   "source": [
    "def diff_elements(g):\n",
    "    s = []\n",
    "    for i in g:\n",
    "        s = s+i\n",
    "    \n",
    "    return set(s)"
   ]
  },
  {
   "cell_type": "code",
   "execution_count": 3,
   "metadata": {},
   "outputs": [],
   "source": [
    "# replace values in nested arrays\n",
    "def replace(g, v1, v2):\n",
    "    for ind1,l1 in enumerate(g):\n",
    "        for ind2, i in enumerate(l1):\n",
    "            if i==v1:\n",
    "                g[ind1][ind2] = v2\n",
    "    return g"
   ]
  },
  {
   "cell_type": "code",
   "execution_count": 18,
   "metadata": {},
   "outputs": [
    {
     "name": "stdout",
     "output_type": "stream",
     "text": [
      "Current best: 24\n",
      "Current best: 20\n",
      "Current best: 17\n"
     ]
    }
   ],
   "source": [
    "global_min_cut = len(edges)\n",
    "\n",
    "# Initialize several(50) passes with random choice of edges\n",
    "for itr in range(50):\n",
    "    g = []\n",
    "    for i in data:\n",
    "        s1 = i.replace('\\t\\n','').split('\\t')[1::]\n",
    "        g.append([int(i)-1 for i in s1])\n",
    "\n",
    "\n",
    "    s = []\n",
    "    for i in g:\n",
    "        s = s+i\n",
    "\n",
    "    edges = list(set(s))\n",
    "\n",
    "    # dedupe edges\n",
    "    edges = []\n",
    "    for i in range(len(g)):\n",
    "        for v in g[i]:\n",
    "            pair = [min(v,i), max(v,i)]\n",
    "            if not (pair in edges):\n",
    "                edges.append(pair)\n",
    "\n",
    "    len(edges)\n",
    "\n",
    "\n",
    "\n",
    "    collapsed_verticies = 0\n",
    "    v2s = []\n",
    "    # while we have more than 2 verticies\n",
    "    while len(diff_elements(g))>2:\n",
    "        # pick a random edge\n",
    "        edge_index = np.random.randint(len(edges))\n",
    "        edge = edges[edge_index]\n",
    "        edges.remove(edge)\n",
    "\n",
    "        v1, v2 = min(edge[0],edge[1]), max(edge[0],edge[1])\n",
    "        # merge v1 and v2 into v1\n",
    "        if v1!=v2:\n",
    "            v2s.append(v2)\n",
    "            collapsed_verticies = collapsed_verticies + 1\n",
    "            #print('Contrapt:', v1 ,v2)\n",
    "            #print(collapsed_verticies)\n",
    "            g[v1], g[v2] = g[v1]+g[v2], []\n",
    "\n",
    "            # replace v2 with v1 in graph(edges, nodes)\n",
    "            g = replace(g, v2, v1)\n",
    "            edges = replace(edges, v2, v1)\n",
    "\n",
    "    min_cut = 0\n",
    "\n",
    "    for i in edges:\n",
    "        if i[0]!=i[1]:\n",
    "            min_cut = min_cut + 1\n",
    "    \n",
    "    if min_cut<global_min_cut:\n",
    "        global_min_cut = min_cut\n",
    "        print('Current best:', global_min_cut)"
   ]
  }
 ],
 "metadata": {
  "kernelspec": {
   "display_name": "Python 3",
   "language": "python",
   "name": "python3"
  },
  "language_info": {
   "codemirror_mode": {
    "name": "ipython",
    "version": 3
   },
   "file_extension": ".py",
   "mimetype": "text/x-python",
   "name": "python",
   "nbconvert_exporter": "python",
   "pygments_lexer": "ipython3",
   "version": "3.7.6"
  }
 },
 "nbformat": 4,
 "nbformat_minor": 4
}
