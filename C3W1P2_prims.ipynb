{
 "cells": [
  {
   "cell_type": "code",
   "execution_count": 214,
   "metadata": {},
   "outputs": [],
   "source": [
    "import pandas as pd"
   ]
  },
  {
   "cell_type": "code",
   "execution_count": 215,
   "metadata": {},
   "outputs": [],
   "source": [
    "with open('edges_c3w1.txt', 'r') as f:\n",
    "    s = f.readlines()"
   ]
  },
  {
   "cell_type": "code",
   "execution_count": 216,
   "metadata": {},
   "outputs": [],
   "source": [
    "G = pd.DataFrame([i.replace('\\n','').split(' ') for i in s[1::]]).astype(int)"
   ]
  },
  {
   "cell_type": "code",
   "execution_count": 217,
   "metadata": {},
   "outputs": [],
   "source": [
    "# make the graph bi-directed\n",
    "G_inv = G[[1,0,2]].copy(deep = True)\n",
    "len(G_inv)\n",
    "G_inv.columns = [0,1,2]\n",
    "G = pd.concat([G, G_inv])\n",
    "G.columns = ['head','tail','len']\n",
    "G.reset_index(drop=True, inplace = True)"
   ]
  },
  {
   "cell_type": "code",
   "execution_count": 218,
   "metadata": {},
   "outputs": [],
   "source": [
    "import heapq\n",
    "tmp = []\n",
    "for row in G.iterrows():\n",
    "    tmp.append((row[1]['len'], (row[1]['tail'], row[1]['head'])))\n",
    "    \n",
    "verticies = set(list(G['tail']) + list(G['head']))\n",
    "heapq.heapify(tmp)"
   ]
  },
  {
   "cell_type": "code",
   "execution_count": 219,
   "metadata": {},
   "outputs": [],
   "source": [
    "tree = [1]\n",
    "\n",
    "edge_lengths = []\n",
    "\n",
    "while len(tree) < len(verticies):\n",
    "    crossing_edges = G[(G['tail'].isin(tree)) & -(G['head'].isin(tree))].copy(deep = True)\n",
    "    if not crossing_edges.empty:\n",
    "        current_node = crossing_edges.loc[crossing_edges.idxmin()['len'], 'head']\n",
    "        edge_lengths.append(crossing_edges.loc[crossing_edges.idxmin()['len'], 'len'])\n",
    "        tree.append(current_node)\n",
    "    else:\n",
    "        break"
   ]
  },
  {
   "cell_type": "code",
   "execution_count": 220,
   "metadata": {},
   "outputs": [
    {
     "data": {
      "text/plain": [
       "-3612829"
      ]
     },
     "execution_count": 220,
     "metadata": {},
     "output_type": "execute_result"
    }
   ],
   "source": [
    "sum(edge_lengths)"
   ]
  }
 ],
 "metadata": {
  "kernelspec": {
   "display_name": "Python 3",
   "language": "python",
   "name": "python3"
  },
  "language_info": {
   "codemirror_mode": {
    "name": "ipython",
    "version": 3
   },
   "file_extension": ".py",
   "mimetype": "text/x-python",
   "name": "python",
   "nbconvert_exporter": "python",
   "pygments_lexer": "ipython3",
   "version": "3.7.1"
  }
 },
 "nbformat": 4,
 "nbformat_minor": 2
}
